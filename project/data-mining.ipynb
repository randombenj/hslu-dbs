{
 "cells": [
  {
   "cell_type": "markdown",
   "metadata": {
    "slideshow": {
     "slide_type": "-"
    }
   },
   "source": [
    "# DBS Projekt Crash Analyse\n",
    "\n",
    "In unserem DBS Projekt wollen wir die unfallstatistiken des BFU analysieren.\n",
    "Als input nehmen wir dafür folgende daten: https://data.geo.admin.ch/ch.astra.unfaelle-personenschaeden_alle/\n",
    "\n",
    "Da wir in diesem Projekt MongoDB verwenden, muss diese zuerst auf dem lokalen system installiert werden ...\n",
    "\n",
    "\n",
    "Was wollen wir zeigen:\n",
    "\n",
    "- Anzahl totale unfaelle\n",
    "- Anzahl tädliche und prozentualer anteil\n",
    "- Entwicklung (trend)\n",
    "- Unfaelle pro Wochentag\n",
    "- Sicherste / Unsicherste zeit\n",
    "- Sicherste zeit nach Jahreszeit\n",
    "- Sichere unsichere Strassentypen (hauptstrasse, autobahn ...)\n",
    "- Karte mit unfallorten\n",
    "- Unfall pro Kanton\n",
    "- Graubuenden im Winter mehr?\n",
    "- Sicherste Zeit, Sicherster Ort, Sicherster Jahreszeit\n",
    "- Unfalltypen Haufigkeit, ...\n",
    "- Hoehemeter pro koordinaten (auf welcher hoehe gibt es die meisten unfaelle)\n",
    "- Sicherster Wohnort"
   ]
  },
  {
   "cell_type": "code",
   "execution_count": 1,
   "metadata": {},
   "outputs": [],
   "source": [
    "import pymongo"
   ]
  },
  {
   "cell_type": "code",
   "execution_count": 2,
   "metadata": {},
   "outputs": [],
   "source": [
    "db = pymongo.MongoClient(\"mongodb://localhost\").dbs"
   ]
  },
  {
   "cell_type": "code",
   "execution_count": 4,
   "metadata": {},
   "outputs": [
    {
     "data": {
      "text/plain": [
       "161320"
      ]
     },
     "execution_count": 4,
     "metadata": {},
     "output_type": "execute_result"
    }
   ],
   "source": [
    "total_accident_count = db.accidents.count_documents({})\n",
    "total_accident_count"
   ]
  },
  {
   "cell_type": "code",
   "execution_count": 7,
   "metadata": {},
   "outputs": [
    {
     "data": {
      "text/plain": [
       "2171"
      ]
     },
     "execution_count": 7,
     "metadata": {},
     "output_type": "execute_result"
    }
   ],
   "source": [
    "lethal_accident_count = db.accidents.count_documents({\n",
    "    \"$expr\": {\"$eq\": [\"$severity.id\", \"as1\"]}\n",
    "})\n",
    "lethal_accident_count"
   ]
  },
  {
   "cell_type": "code",
   "execution_count": 8,
   "metadata": {},
   "outputs": [
    {
     "name": "stdout",
     "output_type": "stream",
     "text": [
      "percentage: 0.013457723778824697\n"
     ]
    }
   ],
   "source": [
    "print(f\"percentage: {lethal_accident_count / total_accident_count}\")"
   ]
  },
  {
   "cell_type": "code",
   "execution_count": null,
   "metadata": {},
   "outputs": [],
   "source": []
  }
 ],
 "metadata": {
  "kernelspec": {
   "display_name": "Python 3",
   "language": "python",
   "name": "python3"
  },
  "language_info": {
   "codemirror_mode": {
    "name": "ipython",
    "version": 3
   },
   "file_extension": ".py",
   "mimetype": "text/x-python",
   "name": "python",
   "nbconvert_exporter": "python",
   "pygments_lexer": "ipython3",
   "version": "3.6.9"
  }
 },
 "nbformat": 4,
 "nbformat_minor": 2
}
