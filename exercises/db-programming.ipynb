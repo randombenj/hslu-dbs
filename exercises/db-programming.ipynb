{
 "cells": [
  {
   "cell_type": "markdown",
   "metadata": {},
   "source": [
    "# Datenbankprogrammierung\n",
    "\n",
    "**Was ist ein Cursor? Definieren Sie das Konzept in Ihren eigenen Worten.**\n",
    "  \n",
    "**Aus welchem Grund (warum) und zu welchem Zweck (wozu) braucht man Cursors?**\n",
    "\n",
    "**Wozu werden Datenbanksprachen in andere Sprachen eingebettet?**\n",
    "\n",
    "**Was ist der Unterschied zwischen objektorientierten und objektrelationalen Datenbanken?**\n",
    "\n",
    "**Was ist ein Surrogat?, und was hat es mit Objektorientierung zu tun?**\n",
    "\n",
    "**Was ist das NF2 Modell? Was ist der Zusammenhang von NF2 mit der Objektorientierung?**\n",
    "\n",
    "**Was ist objekt-relationales Mapping, und was sind die Vorteile?**"
   ]
  },
  {
   "cell_type": "markdown",
   "metadata": {},
   "source": [
    "\n",
    "## Jupyter Setup\n",
    "\n",
    "Um dieses Jupyter Notebook zu gebrauchen sollten folgende extensions\n",
    "installiert werden:\n",
    "\n",
    "- https://github.com/SpencerPark/IJava\n",
    "- https://github.com/catherinedevlin/ipython-sql\n",
    "\n",
    "## Datenbank Setup\n",
    "\n",
    "Als erstes sollte [mysel installiert sein](https://support.rackspace.com/how-to/install-mysql-server-on-the-ubuntu-operating-system/).\n",
    "\n",
    "Die Datenbank kann folgendermassen aufgesetzt werden:\n",
    "\n",
    "```sh\n",
    "sudo mysql < uni-schema.sql\n",
    "sudo mysql uni4 < uni-daten.sql\n",
    "```"
   ]
  },
  {
   "cell_type": "markdown",
   "metadata": {},
   "source": [
    "## Hello JDBC\n",
    "\n",
    "Professoren und Vorlesungen selektieren (ohne join)"
   ]
  },
  {
   "cell_type": "code",
   "execution_count": 1,
   "metadata": {},
   "outputs": [],
   "source": [
    "%maven mysql:mysql-connector-java:8.0.19\n",
    "\n",
    "import java.sql.Statement;\n",
    "import java.sql.Connection;\n",
    "import java.sql.DriverManager;\n",
    "import java.sql.ResultSet;"
   ]
  },
  {
   "cell_type": "code",
   "execution_count": 2,
   "metadata": {},
   "outputs": [],
   "source": [
    "Connection connection = DriverManager.getConnection(\n",
    "    \"jdbc:mysql://localhost:3306/uni4?&serverTimezone=Europe/Zurich\",\n",
    "    \"uniuser\", \n",
    "    \"password\"\n",
    ");"
   ]
  },
  {
   "cell_type": "code",
   "execution_count": 3,
   "metadata": {},
   "outputs": [
    {
     "name": "stdout",
     "output_type": "stream",
     "text": [
      "Sokrates\n",
      "Russel\n",
      "Kopernikus\n",
      "Popper\n",
      "Augustinus\n",
      "Curie\n",
      "Kant\n"
     ]
    }
   ],
   "source": [
    "var professorResultset = connection.createStatement().executeQuery(\"SELECT * FROM Professoren\");\n",
    "while (professorResultset.next()) {\n",
    "    System.out.println(professorResultset.getString(2));\n",
    "}"
   ]
  },
  {
   "cell_type": "code",
   "execution_count": 4,
   "metadata": {},
   "outputs": [
    {
     "name": "stdout",
     "output_type": "stream",
     "text": [
      "Sokrates unterrichtet: Logik, Ethik, Maeeutik, \n",
      "Russel unterrichtet: Erkenntnistheorie, Wissenschaftstheorie, Bioethik, \n",
      "Kopernikus unterrichtet: \n",
      "Popper unterrichtet: Der Wiener Kreis, \n",
      "Augustinus unterrichtet: Glaube und Wissen, \n",
      "Curie unterrichtet: \n",
      "Kant unterrichtet: Die 3 Kritiken, Grundzuege, \n"
     ]
    }
   ],
   "source": [
    "var professorResultset = connection.createStatement().executeQuery(\"SELECT * FROM Professoren\");\n",
    "while (professorResultset.next()) {\n",
    "    var statement = connection.prepareStatement(\"SELECT * FROM Vorlesungen WHERE gelesenVon = ?\");\n",
    "    statement.setInt(1, professorResultset.getInt(1));\n",
    "    var vorlesungResult = statement.executeQuery();\n",
    "    \n",
    "    System.out.printf(\"%s unterrichtet: \", professorResultset.getString(2));\n",
    "    while (vorlesungResult.next()) {\n",
    "        System.out.printf(\"%s, \", vorlesungResult.getString(2));\n",
    "    }\n",
    "    System.out.println();\n",
    "}"
   ]
  },
  {
   "cell_type": "markdown",
   "metadata": {},
   "source": [
    "## Exception Handling"
   ]
  },
  {
   "cell_type": "code",
   "execution_count": 9,
   "metadata": {},
   "outputs": [
    {
     "ename": "EvalException",
     "evalue": "PROCEDURE testException already exists",
     "output_type": "error",
     "traceback": [
      "\u001b[1m\u001b[31m---------------------------------------------------------------------------\u001b[0m",
      "\u001b[1m\u001b[31mjava.sql.SQLSyntaxErrorException: PROCEDURE testException already exists\u001b[0m",
      "\u001b[1m\u001b[31m\tat com.mysql.cj.jdbc.exceptions.SQLError.createSQLException(SQLError.java:120)\u001b[0m",
      "\u001b[1m\u001b[31m\tat com.mysql.cj.jdbc.exceptions.SQLError.createSQLException(SQLError.java:97)\u001b[0m",
      "\u001b[1m\u001b[31m\tat com.mysql.cj.jdbc.exceptions.SQLExceptionsMapping.translateException(SQLExceptionsMapping.java:122)\u001b[0m",
      "\u001b[1m\u001b[31m\tat com.mysql.cj.jdbc.StatementImpl.executeInternal(StatementImpl.java:764)\u001b[0m",
      "\u001b[1m\u001b[31m\tat com.mysql.cj.jdbc.StatementImpl.execute(StatementImpl.java:648)\u001b[0m",
      "\u001b[1m\u001b[31m\tat .(#27:1)\u001b[0m"
     ]
    }
   ],
   "source": [
    "connection.createStatement().execute(\n",
    "    \"CREATE PROCEDURE testException ()\" +\n",
    "    \"BEGIN\" +\n",
    "    \"    SIGNAL SQLSTATE '45000'\" +\n",
    "    \"    SET MESSAGE_TEXT = 'An Error occurred', \" +\n",
    "    \"    MYSQL_ERRNO = 1001;\" +\n",
    "    \"END\"\n",
    ");"
   ]
  },
  {
   "cell_type": "code",
   "execution_count": 5,
   "metadata": {},
   "outputs": [
    {
     "ename": "EvalException",
     "evalue": "An Error occurred",
     "output_type": "error",
     "traceback": [
      "\u001b[1m\u001b[31m---------------------------------------------------------------------------\u001b[0m",
      "\u001b[1m\u001b[31mjava.sql.SQLException: An Error occurred\u001b[0m",
      "\u001b[1m\u001b[31m\tat com.mysql.cj.jdbc.exceptions.SQLError.createSQLException(SQLError.java:129)\u001b[0m",
      "\u001b[1m\u001b[31m\tat com.mysql.cj.jdbc.exceptions.SQLError.createSQLException(SQLError.java:97)\u001b[0m",
      "\u001b[1m\u001b[31m\tat com.mysql.cj.jdbc.exceptions.SQLExceptionsMapping.translateException(SQLExceptionsMapping.java:122)\u001b[0m",
      "\u001b[1m\u001b[31m\tat com.mysql.cj.jdbc.StatementImpl.executeQuery(StatementImpl.java:1200)\u001b[0m",
      "\u001b[1m\u001b[31m\tat .do_it$Aux(#23:1)\u001b[0m",
      "\u001b[1m\u001b[31m\tat .(#23:1)\u001b[0m"
     ]
    }
   ],
   "source": [
    "var resultset = connection.createStatement().executeQuery(\"CALL testException()\");"
   ]
  },
  {
   "cell_type": "markdown",
   "metadata": {},
   "source": [
    "## Stored Procedures\n",
    "\n",
    "```sql\n",
    "-- Erstellen Sie auf Ihrer lokalen MySQL-Installation eine Tabelle:\n",
    "CREATE TABLE IF NOT EXISTS weekends(datum date primary key, yay boolean);\n",
    "\n",
    "-- Dann erstellen Sie eine Stored Procedure `f`:\n",
    "DELIMITER $$\n",
    "\n",
    "CREATE PROCEDURE mark_weekends (startdate date, nr int) BEGIN\n",
    "\n",
    "  DECLARE i int DEFAULT 1;\n",
    "  DECLARE next_day date DEFAULT startdate;\n",
    "\n",
    "  WHILE (nr >= i) DO\n",
    "\n",
    "    -- insert weekdays and mark them as weekends\n",
    "    INSERT INTO weekends(datum, yay)\n",
    "    VALUES (next_day, (dayofweek(next_day) in (7, 1)));\n",
    "\n",
    "    SET i := i + 1;\n",
    "    SET next_day := DATE_ADD(next_day, INTERVAL 1 DAY);\n",
    "\n",
    "  END WHILE;\n",
    "END$$\n",
    "\n",
    "DELIMITER ;\n",
    "\n",
    "-- Anschliessend können Sie die die Prozedur wie folgt aufrufen:\n",
    "CALL mark_weekends('2020-11-11', 111);\n",
    "```\n",
    "\n",
    "**Welche Semantik hat die Prozedur f (was genau macht das Programm)? Was bedeuten die Daten, welche die Prozedur generiert?**\n",
    "\n",
    "Die Prozedur markiert alle Samstage und Sonntage (alle wochenenden)"
   ]
  },
  {
   "cell_type": "code",
   "execution_count": 8,
   "metadata": {},
   "outputs": [
    {
     "data": {
      "text/plain": [
       "false"
      ]
     },
     "execution_count": 8,
     "metadata": {},
     "output_type": "execute_result"
    }
   ],
   "source": [
    "connection.createStatement().execute(\"DELETE FROM weekends\");\n",
    "connection.createStatement().execute(\"CALL mark_weekends('2020-11-11', 111)\");"
   ]
  },
  {
   "cell_type": "code",
   "execution_count": 9,
   "metadata": {},
   "outputs": [
    {
     "name": "stdout",
     "output_type": "stream",
     "text": [
      "2020-11-11: 0\n",
      "2020-11-12: 0\n",
      "2020-11-13: 0\n",
      "2020-11-14: 1\n",
      "2020-11-15: 1\n",
      "2020-11-16: 0\n",
      "2020-11-17: 0\n",
      "2020-11-18: 0\n",
      "2020-11-19: 0\n",
      "2020-11-20: 0\n",
      "2020-11-21: 1\n",
      "2020-11-22: 1\n",
      "2020-11-23: 0\n",
      "2020-11-24: 0\n",
      "2020-11-25: 0\n",
      "2020-11-26: 0\n",
      "2020-11-27: 0\n",
      "2020-11-28: 1\n",
      "2020-11-29: 1\n",
      "2020-11-30: 0\n",
      "2020-12-01: 0\n",
      "2020-12-02: 0\n",
      "2020-12-03: 0\n",
      "2020-12-04: 0\n",
      "2020-12-05: 1\n",
      "2020-12-06: 1\n",
      "2020-12-07: 0\n",
      "2020-12-08: 0\n",
      "2020-12-09: 0\n",
      "2020-12-10: 0\n",
      "2020-12-11: 0\n",
      "2020-12-12: 1\n",
      "2020-12-13: 1\n",
      "2020-12-14: 0\n",
      "2020-12-15: 0\n",
      "2020-12-16: 0\n",
      "2020-12-17: 0\n",
      "2020-12-18: 0\n",
      "2020-12-19: 1\n",
      "2020-12-20: 1\n",
      "2020-12-21: 0\n",
      "2020-12-22: 0\n",
      "2020-12-23: 0\n",
      "2020-12-24: 0\n",
      "2020-12-25: 0\n",
      "2020-12-26: 1\n",
      "2020-12-27: 1\n",
      "2020-12-28: 0\n",
      "2020-12-29: 0\n",
      "2020-12-30: 0\n",
      "2020-12-31: 0\n",
      "2021-01-01: 0\n",
      "2021-01-02: 1\n",
      "2021-01-03: 1\n",
      "2021-01-04: 0\n",
      "2021-01-05: 0\n",
      "2021-01-06: 0\n",
      "2021-01-07: 0\n",
      "2021-01-08: 0\n",
      "2021-01-09: 1\n",
      "2021-01-10: 1\n",
      "2021-01-11: 0\n",
      "2021-01-12: 0\n",
      "2021-01-13: 0\n",
      "2021-01-14: 0\n",
      "2021-01-15: 0\n",
      "2021-01-16: 1\n",
      "2021-01-17: 1\n",
      "2021-01-18: 0\n",
      "2021-01-19: 0\n",
      "2021-01-20: 0\n",
      "2021-01-21: 0\n",
      "2021-01-22: 0\n",
      "2021-01-23: 1\n",
      "2021-01-24: 1\n",
      "2021-01-25: 0\n",
      "2021-01-26: 0\n",
      "2021-01-27: 0\n",
      "2021-01-28: 0\n",
      "2021-01-29: 0\n",
      "2021-01-30: 1\n",
      "2021-01-31: 1\n",
      "2021-02-01: 0\n",
      "2021-02-02: 0\n",
      "2021-02-03: 0\n",
      "2021-02-04: 0\n",
      "2021-02-05: 0\n",
      "2021-02-06: 1\n",
      "2021-02-07: 1\n",
      "2021-02-08: 0\n",
      "2021-02-09: 0\n",
      "2021-02-10: 0\n",
      "2021-02-11: 0\n",
      "2021-02-12: 0\n",
      "2021-02-13: 1\n",
      "2021-02-14: 1\n",
      "2021-02-15: 0\n",
      "2021-02-16: 0\n",
      "2021-02-17: 0\n",
      "2021-02-18: 0\n",
      "2021-02-19: 0\n",
      "2021-02-20: 1\n",
      "2021-02-21: 1\n",
      "2021-02-22: 0\n",
      "2021-02-23: 0\n",
      "2021-02-24: 0\n",
      "2021-02-25: 0\n",
      "2021-02-26: 0\n",
      "2021-02-27: 1\n",
      "2021-02-28: 1\n",
      "2021-03-01: 0\n"
     ]
    }
   ],
   "source": [
    "var result = connection.createStatement().executeQuery(\"SELECT * FROM weekends\");\n",
    "while (result.next()) {\n",
    "    System.out.printf(\"%s: %d\\n\", result.getString(1), result.getInt(2));\n",
    "}"
   ]
  },
  {
   "cell_type": "code",
   "execution_count": null,
   "metadata": {},
   "outputs": [],
   "source": []
  }
 ],
 "metadata": {
  "kernelspec": {
   "display_name": "Java",
   "language": "java",
   "name": "java"
  },
  "language_info": {
   "codemirror_mode": "java",
   "file_extension": ".jshell",
   "mimetype": "text/x-java-source",
   "name": "Java",
   "pygments_lexer": "java",
   "version": "11.0.6+10-post-Ubuntu-1ubuntu118.04.1"
  }
 },
 "nbformat": 4,
 "nbformat_minor": 2
}
